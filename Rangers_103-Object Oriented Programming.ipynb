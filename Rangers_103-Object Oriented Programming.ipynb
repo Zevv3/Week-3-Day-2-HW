{
 "cells": [
  {
   "cell_type": "markdown",
   "metadata": {},
   "source": [
    "# Object-Oriented-Programming (OOP)"
   ]
  },
  {
   "cell_type": "markdown",
   "metadata": {},
   "source": [
    "## Tasks Today:\n",
    "\n",
    "   \n",
    "\n",
    "1) <b>Creating a Class (Initializing/Declaring)</b> <br>\n",
    "2) <b>Using a Class (Instantiating)</b> <br>\n",
    " &nbsp;&nbsp;&nbsp;&nbsp; a) Creating One Instance <br>\n",
    " &nbsp;&nbsp;&nbsp;&nbsp; b) Creating Multiple Instances <br>\n",
    " &nbsp;&nbsp;&nbsp;&nbsp; c) In-Class Exercise #1 - Create a Class 'Car' and instantiate three different makes of cars <br>\n",
    "3) <b>The \\__init\\__() Method</b> <br>\n",
    " &nbsp;&nbsp;&nbsp;&nbsp; a) The 'self' Attribute <br>\n",
    "4) <b>Class Attributes</b> <br>\n",
    " &nbsp;&nbsp;&nbsp;&nbsp; a) Initializing Attributes <br>\n",
    " &nbsp;&nbsp;&nbsp;&nbsp; b) Setting an Attribute Outside of the \\__init\\__() Method <br>\n",
    " &nbsp;&nbsp;&nbsp;&nbsp; c) Setting Defaults for Attributes <br>\n",
    " &nbsp;&nbsp;&nbsp;&nbsp; d) Accessing Class Attributes <br>\n",
    " &nbsp;&nbsp;&nbsp;&nbsp; e) Changing Class Attributes <br>\n",
    " &nbsp;&nbsp;&nbsp;&nbsp; f) In-Class Exercise #2 - Add a color and wheels attribute to your 'Car' class <br>\n",
    "5) <b>Class Methods</b> <br>\n",
    " &nbsp;&nbsp;&nbsp;&nbsp; a) Creating <br>\n",
    " &nbsp;&nbsp;&nbsp;&nbsp; b) Calling <br>\n",
    " &nbsp;&nbsp;&nbsp;&nbsp; c) Modifying an Attribute's Value Through a Method <br>\n",
    " &nbsp;&nbsp;&nbsp;&nbsp; d) Incrementing an Attribute's Value Through a Method <br>\n",
    " &nbsp;&nbsp;&nbsp;&nbsp; e) In-Class Exercise #3 - Add a method that prints the cars color and wheel number, then call them <br>\n",
    "6) <b>Inheritance</b> <br>\n",
    " &nbsp;&nbsp;&nbsp;&nbsp; a) Syntax for Inheriting from a Parent Class <br>\n",
    " &nbsp;&nbsp;&nbsp;&nbsp; b) The \\__init\\__() Method for a Child Class (super()) <br>\n",
    " &nbsp;&nbsp;&nbsp;&nbsp; c) Defining Attributes and Methods for the Child Class <br>\n",
    " &nbsp;&nbsp;&nbsp;&nbsp; d) Method Overriding <br>\n",
    " &nbsp;&nbsp;&nbsp;&nbsp; e) In-Class Exercise #4 - Create a class 'Ford' that inherits from 'Car' class and initialize it as a Blue Ford Explorer with 4 wheels using the super() method <br>\n",
    "7) <b>Classes as Attributes</b> <br>\n",
    "8) <b>Exercises</b> <br>\n",
    " &nbsp;&nbsp;&nbsp;&nbsp; a) Exercise #1 - Turn the shopping cart program from last week into an object-oriented program <br>"
   ]
  },
  {
   "cell_type": "markdown",
   "metadata": {},
   "source": [
    "## Creating a Class (Initializing/Declaring)\n",
    "<p>When creating a class, function, or even a variable you are initializing that object. Initializing and Declaring occur at the same time in Python, whereas in lower level languages you have to declare an object before initializing it. This is the first step in the process of using a class.</p>"
   ]
  },
  {
   "cell_type": "code",
   "execution_count": null,
   "metadata": {},
   "outputs": [],
   "source": [
    "#this is initializing an object technically (I am an object)\n",
    "name = \"Kelsey\"\n",
    "#class names are capitalized (this is just a convention but technically it won't break your code)\n",
    "#wheels and color below are class attributes\n",
    "class Car():\n",
    "    wheels = 4\n",
    "    color = 'blue'"
   ]
  },
  {
   "cell_type": "markdown",
   "metadata": {},
   "source": [
    "## Using a Class (Instantiating)\n",
    "<p>The process of creating a class is called <i>Instantiating</i>. Each time you create a variable of that type of class, it is referred to as an <i>Instance</i> of that class. This is the second step in the process of using a class.</p>"
   ]
  },
  {
   "cell_type": "markdown",
   "metadata": {},
   "source": [
    "##### Creating One Instance"
   ]
  },
  {
   "cell_type": "code",
   "execution_count": null,
   "metadata": {},
   "outputs": [],
   "source": [
    "ford = Car()\n",
    "print(ford.wheels)"
   ]
  },
  {
   "cell_type": "markdown",
   "metadata": {},
   "source": [
    "##### Creating Multiple Instances"
   ]
  },
  {
   "cell_type": "code",
   "execution_count": null,
   "metadata": {},
   "outputs": [],
   "source": [
    "mazda = Car()\n",
    "print(mazda.color)\n",
    "chevy = Car()\n",
    "print(chevy.wheels)\n",
    "honda = Car()\n",
    "print(honda.color)"
   ]
  },
  {
   "cell_type": "markdown",
   "metadata": {},
   "source": [
    "##### In-Class Exercise #1 - Create a Class 'Car' and Instantiate three different makes of cars"
   ]
  },
  {
   "cell_type": "code",
   "execution_count": null,
   "metadata": {},
   "outputs": [],
   "source": [
    "class Car():\n",
    "    def __init__(self, make, wheels, color, doors, style):\n",
    "        self.make = make\n",
    "        self.wheels = wheels\n",
    "        self.color = color\n",
    "        self.doors = doors\n",
    "        self.style = style\n",
    "        print(\"\\n\" + self.make)\n",
    "        print(self.wheels)\n",
    "        print(self.color)\n",
    "        print(self.doors)\n",
    "        print(self.style)\n",
    "subaru = Car(\"Subaru\", 4, \"black\", 4, \"sedan\")\n",
    "honda = Car(\"Honda\", 4, \"red\", 5, \"minivan\")\n",
    "toyota = Car(\"Toyota\", 4, \"silver\", 5, \"minivan\")"
   ]
  },
  {
   "cell_type": "markdown",
   "metadata": {},
   "source": [
    "## The \\__init\\__() Method <br>\n",
    "<p>This method is used in almost every created class, and called only once upon the creation of the class instance. This method will initialize all variables needed for the object.</p>"
   ]
  },
  {
   "cell_type": "code",
   "execution_count": null,
   "metadata": {},
   "outputs": [],
   "source": [
    "#this is a special Method, denoted by double underscores on each side\n",
    "#(hard to see above in the title but both underscores are double underscores)\n",
    "#A constant is something that is not likely to change across instances\n",
    "#A constant is denoted by all caps, placed before the __init__() method\n",
    "class Car():\n",
    "    ENGINE = \"4.7L\"\n",
    "    def __init__(self, wheels, color, doors):\n",
    "        self.wheels = wheels\n",
    "        self.color = color\n",
    "        self.doors = doors\n",
    "        #note that the 'wheels' 'color' and 'doors' can be any variable and 'self' is a convention\n",
    "class Example():\n",
    "    def __init__(whatever, x, y, z):\n",
    "        whatever.wheels = x\n",
    "        whatever.color = y\n",
    "        whatever.doors = z\n",
    "        \n",
    "ford = Example(4, \"blue\", 2)\n",
    "print(ford.wheels)\n",
    "ford = Car(4, \"blue\", 2)\n",
    "print(ford.color)\n",
    "mazda = Car(4, \"red\", 6)\n",
    "print(mazda.color)\n",
    "print(ford.ENGINE)"
   ]
  },
  {
   "cell_type": "markdown",
   "metadata": {},
   "source": [
    "##### The 'self' Attribute <br>\n",
    "<p>This attribute is required to keep track of specific instance's attributes. Without the self attribute, the program would not know how to reference or keep track of an instance's attributes.</p>"
   ]
  },
  {
   "cell_type": "code",
   "execution_count": null,
   "metadata": {},
   "outputs": [],
   "source": [
    "class Pokemon():\n",
    "    def __init__(self, name, type_):\n",
    "        #self will hold the place of the object we instantiate\n",
    "        self.name = name\n",
    "        self.type_ = type_\n",
    "        print(f\"self is referencing the object {self}, {self.name}\")\n",
    "        print(self.type_)\n",
    "        # these print because __init__ gets run every time an object is created\n",
    "charmander = Pokemon(\"Charmander\", \"fire\")"
   ]
  },
  {
   "cell_type": "markdown",
   "metadata": {},
   "source": [
    "## Class Attributes <br>\n",
    "<p>While variables are inside of a class, they are referred to as attributes and not variables. When someone says 'attribute' you know they're speaking about a class. Attributes can be initialized through the init method, or outside of it.</p>"
   ]
  },
  {
   "cell_type": "markdown",
   "metadata": {},
   "source": [
    "##### Initializing Attributes"
   ]
  },
  {
   "cell_type": "code",
   "execution_count": null,
   "metadata": {},
   "outputs": [],
   "source": [
    "#just variables that are within a class\n",
    "squirtle = Pokemon(\"Squirtle\", \"Water\")"
   ]
  },
  {
   "cell_type": "markdown",
   "metadata": {},
   "source": [
    "##### Accessing Class Attributes"
   ]
  },
  {
   "cell_type": "code",
   "execution_count": null,
   "metadata": {
    "scrolled": true
   },
   "outputs": [],
   "source": [
    "print(squirtle.name)\n",
    "print(squirtle.type_)\n",
    "\n",
    "print(squirtle.__dict__)"
   ]
  },
  {
   "cell_type": "markdown",
   "metadata": {},
   "source": [
    "##### Setting Defaults for Attributes"
   ]
  },
  {
   "cell_type": "code",
   "execution_count": null,
   "metadata": {},
   "outputs": [],
   "source": [
    "class Car():\n",
    "    def __init__(self, wheels):\n",
    "        self.wheels = wheels\n",
    "        self.color = \"Blue\"\n",
    "honda = Car(4)\n",
    "print(honda.wheels)\n",
    "print(honda.color)\n",
    "#with this way, you cannot change the attribute when you instantiate\n",
    "#you have to instantiate and then change.\n",
    "#the way shown below, you can change when you instantiate\n",
    "#this provides more \"protection\" to the default attribute"
   ]
  },
  {
   "cell_type": "code",
   "execution_count": null,
   "metadata": {},
   "outputs": [],
   "source": [
    "#can also be done like this\n",
    "class Car():\n",
    "    def __init__(self, wheels, color = \"Blue\"):\n",
    "        self.wheels = wheels\n",
    "        self.color = color\n",
    "    \n",
    "ford = Car(4, \"Green\")\n",
    "print(ford.wheels)\n",
    "print(ford.color)"
   ]
  },
  {
   "cell_type": "markdown",
   "metadata": {},
   "source": [
    "##### Changing Class Attributes <br>\n",
    "<p>Keep in mind there are global class attributes and then there are attributes only available to each class instance which won't effect other classes.</p>"
   ]
  },
  {
   "cell_type": "code",
   "execution_count": null,
   "metadata": {},
   "outputs": [],
   "source": [
    "#changing the default attribute\n",
    "\n",
    "class Car():\n",
    "    def __init__(self, wheels):\n",
    "        self.wheels = wheels\n",
    "        self.color = \"Blue\"\n",
    "honda = Car(4)\n",
    "\n",
    "\n",
    "print(f\"Before change: {honda.color}\")\n",
    "honda.color = \"purple\"\n",
    "print(f\"After change: {honda.color}\")"
   ]
  },
  {
   "cell_type": "code",
   "execution_count": null,
   "metadata": {},
   "outputs": [],
   "source": [
    "class Car():\n",
    "    def __init__(self, wheels, color = \"Blue\"):\n",
    "        self.wheels = wheels\n",
    "        self.color = color\n",
    "    \n",
    "ford = Car(4, \"Green\")\n",
    "\n",
    "print(f\"before change: {ford.color}\")\n",
    "ford.color = \"Orange\"\n",
    "print(f\"after change: {ford.color}\")"
   ]
  },
  {
   "cell_type": "markdown",
   "metadata": {},
   "source": [
    "##### In-Class Exercise #2 - Add a doors and seats attribute to your 'Car' class then print out two different instances with different doors and seats"
   ]
  },
  {
   "cell_type": "code",
   "execution_count": null,
   "metadata": {},
   "outputs": [],
   "source": [
    "class Car():\n",
    "    def __init__(self, year, color, make, model, doors, seats):\n",
    "        self.color = color\n",
    "        self.year = year\n",
    "        self.make = make\n",
    "        self.model = model\n",
    "        self.doors = doors\n",
    "        self.seats = seats\n",
    "        self.wheels = 4\n",
    "        \n",
    "my_car = Car(2012, \"black\", \"Subaru\", \"Impreza\", 4, 5)\n",
    "print(f\"My car is a {my_car.color} {my_car.year} {my_car.make} {my_car.model} with {my_car.wheels} wheels, {my_car.doors} doors, and {my_car.seats} seats.\")\n",
    "my_car = Car(2011, \"silver\", \"Toyota\", \"Sienna\", 5, 7)\n",
    "print(f\"The car I learned to drive in was a {my_car.color} {my_car.year} {my_car.make} {my_car.model} with {my_car.wheels} wheels, {my_car.doors} doors, and {my_car.seats} seats.\")"
   ]
  },
  {
   "cell_type": "markdown",
   "metadata": {},
   "source": [
    "## Class Methods <br>\n",
    "<p>While inside of a class, functions are referred to as 'methods'. If you hear someone mention methods, they're speaking about classes. Methods are essentially functions, but only callable on the instances of a class.</p>"
   ]
  },
  {
   "cell_type": "markdown",
   "metadata": {},
   "source": [
    "##### Creating"
   ]
  },
  {
   "cell_type": "code",
   "execution_count": null,
   "metadata": {},
   "outputs": [],
   "source": [
    "class Bus():\n",
    "    \"\"\"\n",
    "    The bus will have doors, seats, seats available, color, and a bus driver\n",
    "    \n",
    "    Attributes for the class:\n",
    "    -doors: int\n",
    "    -seats: int\n",
    "    -seats_available: int\n",
    "    -color: str\n",
    "    -bus_driver: str\n",
    "    \n",
    "    \"\"\"\n",
    "    def __init__(self, doors, seats, seats_available, color, bus_driver):\n",
    "        self.doors = doors\n",
    "        self.seats = seats\n",
    "        self.seats_available = seats_available\n",
    "        self.color = color\n",
    "        self.bus_driver = bus_driver\n",
    "    \n",
    "    #decrement the number of seats available\n",
    "    #we feed it self to give us access to the instance created\n",
    "    def load_passengers(self):\n",
    "        if self.seats_available <= 0:\n",
    "            print(\"This bus is full! You cannot take any more passengers!\")\n",
    "            if self.seats_available < 0:\n",
    "                print(f\"you left {abs(self.seats_available)} people by the road!\")\n",
    "                self.seats_available = 0\n",
    "        else:\n",
    "            passengers = int(input(\"How many passengers are getting on? \"))\n",
    "            self.seats_available -= passengers\n",
    "            print(f\"{passengers} passengers have boarded. There are {self.seats_available} seats left on the bus.\")\n",
    "        \n",
    "    #increment the number of seats available\n",
    "    def unload_passengers(self):\n",
    "        if self.seats_available >= self.seats:\n",
    "            print(\"Everyone has gotten off the bus!\")\n",
    "        else:\n",
    "            unload = int(input(\"How many passengers are getting off the bus? \"))\n",
    "            self.seats_available += unload\n",
    "            if self.seats_available >= self.seats:\n",
    "                self.seats_available = self.seats\n",
    "                print(f\"{unload} passengers have left the bus. There are {self.seats_available} seats left on the bus.\")\n",
    "            print(f\"{unload} passengers have left the bus. There are {self.seats_available} seats left on the bus.\")\n",
    "                  \n",
    "    #change bus_driver attribute\n",
    "    def change_driver(self):\n",
    "        change = input(\"Who is replacing you? \")\n",
    "        self.bus_driver = change\n",
    "        print(f\"The new bus driver is {self.bus_driver}. Be sure to thank them!\")\n",
    "    \n",
    "    #display seat information\n",
    "    def check_seats(self):\n",
    "        print(self.seats_available)\n",
    "    \n",
    "    #display color information about bus\n",
    "    def admire_bus(self):\n",
    "        print(f\"Would ya just look at that beautiful {self.color} bus!\")\n",
    "        \n",
    "kelsey_bus = Bus(2, 90, 45, \"yellow\", \"Kelsey\")"
   ]
  },
  {
   "cell_type": "markdown",
   "metadata": {},
   "source": [
    "##### Calling"
   ]
  },
  {
   "cell_type": "code",
   "execution_count": null,
   "metadata": {},
   "outputs": [],
   "source": [
    "def run():\n",
    "    while True:\n",
    "        response = input(\"What would you like to do? Load/Unload/Change Driver/Check Seats/Admire/Quit?\")\n",
    "        if response.lower().strip() == 'quit':\n",
    "            print(\"Oh no! There are still passengers to be picked up! :( \")\n",
    "            break\n",
    "        elif response.lower().strip() == \"load\":\n",
    "            kelsey_bus.load_passengers()\n",
    "        elif response.lower().strip() == \"unload\":\n",
    "            kelsey_bus.unload_passengers()\n",
    "        elif response.lower().strip() == \"change driver\":\n",
    "            kelsey_bus.change_driver()\n",
    "        elif response.lower().strip() == \"check seats\":\n",
    "            kelsey_bus.check_seats()\n",
    "        elif response.lower().strip() == \"admire\":\n",
    "            kelsey_bus.admire_bus()\n",
    "        else:\n",
    "            print(\"That is not a valid response! Please pick from the list!\")\n",
    "\n",
    "run()\n"
   ]
  },
  {
   "cell_type": "markdown",
   "metadata": {},
   "source": [
    "##### Modifying an Attribute's Value Through a Method"
   ]
  },
  {
   "cell_type": "code",
   "execution_count": null,
   "metadata": {},
   "outputs": [],
   "source": [
    "#see change_driver method above"
   ]
  },
  {
   "cell_type": "markdown",
   "metadata": {},
   "source": [
    "##### Incrementing an Attribute's Value Through a Method"
   ]
  },
  {
   "cell_type": "code",
   "execution_count": null,
   "metadata": {},
   "outputs": [],
   "source": [
    "#see above"
   ]
  },
  {
   "cell_type": "markdown",
   "metadata": {},
   "source": [
    "##### In-Class Exercise #3 - Add a method that takes in three parameters of year, doors and seats and prints out a formatted print statement with make, model, year, seats, and doors"
   ]
  },
  {
   "cell_type": "code",
   "execution_count": null,
   "metadata": {},
   "outputs": [],
   "source": [
    "# Create class with 2 paramters inside of the __init__ which are make and model\n",
    "\n",
    "# Create two methods for your class\n",
    "\n",
    "# Create a method that alters an attribute for your class\n",
    "\n",
    "# Display method that prints information about the vehicle\n",
    "\n",
    "# Output: This car is from 2019 and is a Ford Expolorer and has 4 doors and 5 seats\n",
    "\n",
    "# Reminder in order to call class methods instance.method()\n",
    "\n",
    "class Car():\n",
    "    def __init__(self, year, color, make, model, doors, seats):\n",
    "        self.color = color\n",
    "        self.year = year\n",
    "        self.make = make\n",
    "        self.model = model\n",
    "        self.doors = doors\n",
    "        self.seats = seats\n",
    "        self.wheels = 4\n",
    "    \n",
    "    def paint(self):\n",
    "        change = input(\"What color would you like to make your car? \")\n",
    "        self.color = change\n",
    "        print(f\"Your car is now {self.color}!\")\n",
    "        \n",
    "    def admire(self):\n",
    "        print(f\"Wow! Look at that {self.color} {self.year} {self.make} {self.model}! It's got {self.doors} doors and {self.seats} seats!\")\n",
    "        \n",
    "\n",
    "my_car = Car(2012, \"Black\", \"Subaru\", \"Impreza\", 4, 5)\n",
    "my_car.admire()\n",
    "my_car.paint()\n",
    "my_car.admire()\n"
   ]
  },
  {
   "cell_type": "markdown",
   "metadata": {},
   "source": [
    "## Inheritance <br>\n",
    "<p>You can create a child-parent relationship between two classes by using inheritance. What this allows you to do is have overriding methods, but also inherit traits from the parent class. Think of it as an actual parent and child, the child will inherit the parent's genes, as will the classes in OOP</p>"
   ]
  },
  {
   "cell_type": "markdown",
   "metadata": {},
   "source": [
    "##### Syntax for Inheriting from a Parent Class"
   ]
  },
  {
   "cell_type": "code",
   "execution_count": null,
   "metadata": {},
   "outputs": [],
   "source": [
    "#Create our parent class\n",
    "class Animal():\n",
    "    ACCELERATION = 9.8\n",
    "    def __init__(self, name, species, legs = 4):\n",
    "        self.name = name\n",
    "        self.species = species\n",
    "        self.legs = legs\n",
    "        \n",
    "    #generic parent method\n",
    "    def make_sound(self):\n",
    "        print(\"REEEEEEEEEEE\")\n",
    "        \n",
    "# Creation of our child class - Dog\n",
    "class Dog(Animal):\n",
    "    SPEED = 15\n",
    "    \n",
    "    def print_info(self):\n",
    "        print(f\"The {self.name} runs at {self.SPEED} mph and accelerates at {self.ACCELERATION} m/s^2\")\n",
    "        \n",
    "#Creation of our grandchild class - Mut\n",
    "class Mutt(Dog):\n",
    "    COLOR = \"light brownnish, beige\"\n",
    "    \n",
    "    #Accessing the Animal class init through the Dog class\n",
    "    def __init__(self, name, species, eye_color, legs = 4):\n",
    "        Dog.__init__(self, name, species, legs)\n",
    "        self.eye_color = eye_color\n",
    "    #this only takes the attributes of the Animal class, not the methods, speed, etc.\n",
    "    #override the made_sound method from the Animal class\n",
    "    def make_sound(self):\n",
    "        print(\"rooooooooooooo\")"
   ]
  },
  {
   "cell_type": "code",
   "execution_count": null,
   "metadata": {},
   "outputs": [],
   "source": [
    "bear = Animal(\"Otto\", \"Polar Bear\")\n",
    "otter = Animal(\"Bear\", \"River Otter\")\n",
    "liger = Animal(\"Napoleon\", \"Liger\")\n",
    "bear.make_sound()\n",
    "otter.make_sound()\n",
    "liger.make_sound()\n",
    "print(bear.ACCELERATION)"
   ]
  },
  {
   "cell_type": "code",
   "execution_count": null,
   "metadata": {},
   "outputs": [],
   "source": [
    "greg = Dog(\"Greg\", \"Pitbull\")\n",
    "greg.make_sound()\n",
    "print(greg.legs)\n",
    "greg.print_info()"
   ]
  },
  {
   "cell_type": "code",
   "execution_count": null,
   "metadata": {},
   "outputs": [],
   "source": [
    "eyo = Mutt(\"Eyo\", \"Dog\", \"Brown\")\n",
    "henri = Mutt(\"Henri\", \"Dog\", \"Green\")\n",
    "\n",
    "eyo.print_info()\n",
    "print(henri.COLOR)\n",
    "print(eyo.eye_color)\n",
    "print(henri.eye_color)\n",
    "eyo.make_sound()\n",
    "henri.make_sound()"
   ]
  },
  {
   "cell_type": "markdown",
   "metadata": {},
   "source": [
    "##### The \\__init\\__() Method for a Child Class - super()"
   ]
  },
  {
   "cell_type": "code",
   "execution_count": null,
   "metadata": {
    "scrolled": true
   },
   "outputs": [],
   "source": [
    "#does the same thing as \"accessing the Animal class... but its more general,\n",
    "#it takes everything as opposed to us defining what it takes\"\n",
    "class Mutt(Dog):\n",
    "    \n",
    "    COLOR = \"lots of colors\"\n",
    "    def __init__(self, name, species, eye_color, legs = 4):\n",
    "        super().__init__(name, species, legs)\n",
    "        #super() will reference the class that the child takes in\n",
    "        self.eye_color = eye_color\n",
    "    def make_sound(self):\n",
    "        print(\"woof\")\n",
    "        \n",
    "courage = Mutt(\"Courage\", \"Schnauzer\", \"black\")\n",
    "\n",
    "print(courage.name)\n",
    "print(courage.species)\n",
    "courage.print_info()"
   ]
  },
  {
   "cell_type": "markdown",
   "metadata": {},
   "source": [
    "##### Defining Attributes and Methods for the Child Class"
   ]
  },
  {
   "cell_type": "code",
   "execution_count": null,
   "metadata": {},
   "outputs": [],
   "source": [
    "# See Above"
   ]
  },
  {
   "cell_type": "markdown",
   "metadata": {},
   "source": [
    "##### Method Overriding"
   ]
  },
  {
   "cell_type": "code",
   "execution_count": null,
   "metadata": {},
   "outputs": [],
   "source": [
    "# See Above"
   ]
  },
  {
   "cell_type": "markdown",
   "metadata": {},
   "source": [
    "## Classes as Attributes <br>\n",
    "<p>Classes can also be used as attributes within another class. This is useful in situations where you need to keep variables locally stored, instead of globally stored.</p>"
   ]
  },
  {
   "cell_type": "code",
   "execution_count": null,
   "metadata": {},
   "outputs": [],
   "source": [
    "class Battery():\n",
    "    VOLTZ = 7.8\n",
    "    def __init__(self, cells):\n",
    "        self.cells = cells\n",
    "        \n",
    "class Car():\n",
    "    def __init__(self, year, make, model, battery):\n",
    "        self.year = year\n",
    "        self.make = make\n",
    "        self.model = model\n",
    "        self.battery = battery\n",
    "        \n",
    "    def print_info(self):\n",
    "        print(f\"{self.year} {self.make} {self.model} {self.battery.cells}\")\n",
    "              \n",
    "battery = Battery(20)\n",
    "\n",
    "volkswagen = Car(2022, \"Volkswagen\", \"Jetta\", battery)\n",
    "\n",
    "volkswagen.print_info()\n",
    "\n",
    "print(volkswagen.battery.VOLTZ)\n",
    "              "
   ]
  },
  {
   "cell_type": "markdown",
   "metadata": {},
   "source": [
    "# Exercises"
   ]
  },
  {
   "cell_type": "markdown",
   "metadata": {},
   "source": [
    "### Exercise 1 - Turn the shopping cart program from yesterday into an object-oriented program\n",
    "\n",
    "The comments in the cell below are there as a guide for thinking about the problem. However, if you feel a different way is best for you and your own thought process, please do what feels best for you by all means."
   ]
  },
  {
   "cell_type": "code",
   "execution_count": 3,
   "metadata": {},
   "outputs": [
    {
     "name": "stdout",
     "output_type": "stream",
     "text": [
      "What would you like to do? add/remove/view/quit quit\n",
      "Your cart: \n",
      "{}\n"
     ]
    }
   ],
   "source": [
    "# Create a class called cart that retains items and has methods to add, remove, and show\n",
    "\n",
    "class Cart():\n",
    "    def __init__(self):\n",
    "        self.items = {}\n",
    "    \n",
    "    def add(self):\n",
    "        key = input(\"What item would you like to buy? \")\n",
    "        value = input(\"How many would you like? \")\n",
    "        print(f\"{value}x {key} added to your cart\")\n",
    "        self.items[key] = value\n",
    "    \n",
    "    def remove(self):\n",
    "        rem = str(input(\"What item would you like to remove from your cart? \"))\n",
    "        if rem in self.items:\n",
    "            print(f\"{rem} has been removed from your cart.\")\n",
    "            del self.items[rem]\n",
    "        else:\n",
    "            print(\"Sorry, that item is not in your cart.\")\n",
    "    \n",
    "    def view(self):\n",
    "        print(\"Your cart: \")\n",
    "        print(self.items)\n",
    "\n",
    "my_cart = Cart()\n",
    "def run():\n",
    "    while True:\n",
    "        response = input(\"What would you like to do? add/remove/view/quit \")\n",
    "        if response.lower().strip() == \"add\":\n",
    "            my_cart.add()\n",
    "        elif response.lower().strip() == \"remove\":\n",
    "            my_cart.remove()\n",
    "        elif response.lower().strip() == \"view\":\n",
    "            my_cart.view()\n",
    "        elif response.lower().strip() == \"quit\":\n",
    "            my_cart.view()\n",
    "            break\n",
    "        else:\n",
    "            print(\"That is not a valid response, please use one of the given options.\")\n",
    "\n",
    "run()"
   ]
  },
  {
   "cell_type": "markdown",
   "metadata": {},
   "source": [
    "### Exercise 2 - Write a Python class which has two methods get_String and print_String. get_String accept a string from the user and print_String print the string in upper case"
   ]
  },
  {
   "cell_type": "code",
   "execution_count": 8,
   "metadata": {},
   "outputs": [
    {
     "name": "stdout",
     "output_type": "stream",
     "text": [
      "Type the string you wish to use: Hello\n",
      "HELLO\n"
     ]
    }
   ],
   "source": [
    "class Upper():\n",
    "    def __init__(self):\n",
    "        self.string = \"\"\n",
    "        \n",
    "    def get_string(self):\n",
    "        self.string = input(\"Type the string you wish to use: \")\n",
    "    \n",
    "    def print_string(self):\n",
    "        print(self.string.upper())\n",
    "\n",
    "my_string = Upper()\n",
    "\n",
    "my_string.get_string()\n",
    "my_string.print_string()"
   ]
  }
 ],
 "metadata": {
  "kernelspec": {
   "display_name": "Python 3 (ipykernel)",
   "language": "python",
   "name": "python3"
  },
  "language_info": {
   "codemirror_mode": {
    "name": "ipython",
    "version": 3
   },
   "file_extension": ".py",
   "mimetype": "text/x-python",
   "name": "python",
   "nbconvert_exporter": "python",
   "pygments_lexer": "ipython3",
   "version": "3.9.12"
  }
 },
 "nbformat": 4,
 "nbformat_minor": 2
}
